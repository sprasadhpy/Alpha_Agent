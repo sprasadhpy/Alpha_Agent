{
  "nbformat": 4,
  "nbformat_minor": 0,
  "metadata": {
    "colab": {
      "provenance": [],
      "mount_file_id": "1_wYYyqnghlICoCv7vzWUP__J2HLeZlhe",
      "authorship_tag": "ABX9TyMMFggAX2KzKjVswcT1GHB3",
      "include_colab_link": true
    },
    "kernelspec": {
      "name": "python3",
      "display_name": "Python 3"
    },
    "language_info": {
      "name": "python"
    }
  },
  "cells": [
    {
      "cell_type": "markdown",
      "metadata": {
        "id": "view-in-github",
        "colab_type": "text"
      },
      "source": [
        "<a href=\"https://colab.research.google.com/github/sprasadhpy/Alpha_Agent/blob/main/AlphaAgentEDA.ipynb\" target=\"_parent\"><img src=\"https://colab.research.google.com/assets/colab-badge.svg\" alt=\"Open In Colab\"/></a>"
      ]
    },
    {
      "cell_type": "code",
      "execution_count": 2,
      "metadata": {
        "colab": {
          "base_uri": "https://localhost:8080/"
        },
        "id": "ZEbQ9r51Vqyx",
        "outputId": "ba07cce4-ceb9-4402-f0a2-32c9f0164536"
      },
      "outputs": [
        {
          "output_type": "stream",
          "name": "stdout",
          "text": [
            "Cloning into 'Alpha_Agent'...\n",
            "remote: Enumerating objects: 16, done.\u001b[K\n",
            "remote: Counting objects: 100% (16/16), done.\u001b[K\n",
            "remote: Compressing objects: 100% (14/14), done.\u001b[K\n",
            "remote: Total 16 (delta 2), reused 9 (delta 0), pack-reused 0 (from 0)\u001b[K\n",
            "Receiving objects: 100% (16/16), 27.06 KiB | 1.04 MiB/s, done.\n",
            "Resolving deltas: 100% (2/2), done.\n"
          ]
        }
      ],
      "source": [
        "!git clone https://github.com/sprasadhpy/Alpha_Agent.git"
      ]
    },
    {
      "cell_type": "code",
      "source": [
        "!pip install uv"
      ],
      "metadata": {
        "colab": {
          "base_uri": "https://localhost:8080/"
        },
        "id": "ROWLKzh7V5ap",
        "outputId": "6da0c7a5-cc18-44f6-fd69-0cec817ab26a"
      },
      "execution_count": 4,
      "outputs": [
        {
          "output_type": "stream",
          "name": "stdout",
          "text": [
            "Collecting uv\n",
            "  Downloading uv-0.7.12-py3-none-manylinux_2_17_x86_64.manylinux2014_x86_64.whl.metadata (11 kB)\n",
            "Downloading uv-0.7.12-py3-none-manylinux_2_17_x86_64.manylinux2014_x86_64.whl (17.8 MB)\n",
            "\u001b[2K   \u001b[90m━━━━━━━━━━━━━━━━━━━━━━━━━━━━━━━━━━━━━━━━\u001b[0m \u001b[32m17.8/17.8 MB\u001b[0m \u001b[31m80.4 MB/s\u001b[0m eta \u001b[36m0:00:00\u001b[0m\n",
            "\u001b[?25hInstalling collected packages: uv\n",
            "Successfully installed uv-0.7.12\n"
          ]
        }
      ]
    },
    {
      "cell_type": "code",
      "source": [
        "%cd Alpha_Agent"
      ],
      "metadata": {
        "colab": {
          "base_uri": "https://localhost:8080/"
        },
        "id": "ukGoW_-ZVzLD",
        "outputId": "1485b5a7-1eb8-4d09-9331-f815197ceb3a"
      },
      "execution_count": 3,
      "outputs": [
        {
          "output_type": "stream",
          "name": "stdout",
          "text": [
            "/content/Alpha_Agent\n"
          ]
        }
      ]
    },
    {
      "cell_type": "code",
      "source": [
        "!uv sync"
      ],
      "metadata": {
        "collapsed": true,
        "id": "QKbm4Uf0V4ND"
      },
      "execution_count": null,
      "outputs": []
    },
    {
      "cell_type": "code",
      "source": [
        "# prompt: Use polars to load in the dataset at the path /content/drive/MyDrive/AlphaAgent/df_all_years.parquet and show me a preview of the first 10 rows\n",
        "import polars as pl\n",
        "\n",
        "# Load the dataset\n",
        "df = pl.read_parquet(\"/content/drive/MyDrive/AlphaAgent/df_all_years.parquet\")\n",
        "\n",
        "# Show the first 10 rows\n",
        "print(df.head(10))"
      ],
      "metadata": {
        "colab": {
          "base_uri": "https://localhost:8080/"
        },
        "id": "pY-hXf81V8CY",
        "outputId": "1c6603a4-4fb1-4b16-d94b-1e67d4d7e1ac"
      },
      "execution_count": 7,
      "outputs": [
        {
          "output_type": "stream",
          "name": "stdout",
          "text": [
            "shape: (10, 502)\n",
            "┌───────┬──────────────┬─────────┬─────────────┬───┬──────────────┬─────────────┬───────────┬──────┐\n",
            "│ tic   ┆ alpha_1      ┆ alpha_2 ┆ alpha_3     ┆ … ┆ alpha_498    ┆ alpha_499   ┆ alpha_500 ┆ year │\n",
            "│ ---   ┆ ---          ┆ ---     ┆ ---         ┆   ┆ ---          ┆ ---         ┆ ---       ┆ ---  │\n",
            "│ cat   ┆ f32          ┆ f32     ┆ f32         ┆   ┆ f32          ┆ f32         ┆ f32       ┆ i32  │\n",
            "╞═══════╪══════════════╪═════════╪═════════════╪═══╪══════════════╪═════════════╪═══════════╪══════╡\n",
            "│ 0033A ┆ -1630.141968 ┆ null    ┆ 1328.186035 ┆ … ┆ 3268913.5    ┆ 2690.676025 ┆ 1.0       ┆ 1980 │\n",
            "│ 0120A ┆ -0.428       ┆ null    ┆ 0.382       ┆ … ┆ -0.01305     ┆ 2.201       ┆ 0.938144  ┆ 1980 │\n",
            "│ 0131A ┆ -137.677002  ┆ null    ┆ 112.292     ┆ … ┆ 1032.977295  ┆ 41.785999   ┆ 1.0       ┆ 1980 │\n",
            "│ 0138A ┆ null         ┆ null    ┆ null        ┆ … ┆ null         ┆ null        ┆ null      ┆ 1980 │\n",
            "│ 0141A ┆ -4352.625977 ┆ null    ┆ 3673.503906 ┆ … ┆ 550650.625   ┆ 1242.802979 ┆ 1.0       ┆ 1980 │\n",
            "│ 0191A ┆ -570.98999   ┆ null    ┆ 655.742004  ┆ … ┆ 128382.28906 ┆ 715.898987  ┆ 1.0       ┆ 1980 │\n",
            "│       ┆              ┆         ┆             ┆   ┆ 2            ┆             ┆           ┆      │\n",
            "│ 0223B ┆ -205.229004  ┆ null    ┆ 201.906006  ┆ … ┆ 3052.216797  ┆ 61.449001   ┆ 1.0       ┆ 1980 │\n",
            "│ 0431B ┆ -156.947998  ┆ null    ┆ 49.721001   ┆ … ┆ 469.046265   ┆ 23.551001   ┆ 1.0       ┆ 1980 │\n",
            "│ 0571B ┆ -180.701996  ┆ null    ┆ 160.610001  ┆ … ┆ 1126.090454  ┆ 49.623001   ┆ 1.0       ┆ 1980 │\n",
            "│ 0575B ┆ -3.43        ┆ null    ┆ 2.1         ┆ … ┆ 1.040996     ┆ 1.631       ┆ 1.0       ┆ 1980 │\n",
            "└───────┴──────────────┴─────────┴─────────────┴───┴──────────────┴─────────────┴───────────┴──────┘\n"
          ]
        }
      ]
    }
  ]
}